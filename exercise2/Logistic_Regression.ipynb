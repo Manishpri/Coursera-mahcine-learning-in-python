{
  "nbformat": 4,
  "nbformat_minor": 0,
  "metadata": {
    "colab": {
      "name": "Logistic Regression.ipynb",
      "version": "0.3.2",
      "views": {},
      "default_view": {},
      "provenance": [],
      "collapsed_sections": []
    },
    "kernelspec": {
      "display_name": "Python [default]",
      "language": "python",
      "name": "python3"
    }
  },
  "cells": [
    {
      "metadata": {
        "id": "OMpStXHGMSL5",
        "colab_type": "code",
        "colab": {
          "autoexec": {
            "startup": false,
            "wait_interval": 0
          },
          "resources": {
            "http://localhost:8080/nbextensions/google.colab/files.js": {
              "data": "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",
              "ok": true,
              "headers": [
                [
                  "content-type",
                  "application/javascript"
                ]
              ],
              "status": 200,
              "status_text": ""
            }
          },
          "base_uri": "https://localhost:8080/",
          "height": 106
        },
        "outputId": "75c4add6-b873-4f65-bf3d-7eb368e134af",
        "executionInfo": {
          "status": "ok",
          "timestamp": 1530851096443,
          "user_tz": -330,
          "elapsed": 16160,
          "user": {
            "displayName": "BHEEM KUMAR",
            "photoUrl": "//lh4.googleusercontent.com/-FbEp2oHW2Io/AAAAAAAAAAI/AAAAAAAAAB8/8MD_60DGnZc/s50-c-k-no/photo.jpg",
            "userId": "116601293889660016995"
          }
        }
      },
      "cell_type": "code",
      "source": [
        "import pandas as pd\n",
        "import numpy as np\n",
        "import matplotlib as mpl\n",
        "import matplotlib.pyplot as plt\n",
        "\n",
        "from scipy.optimize import minimize\n",
        "\n",
        "from sklearn.preprocessing import PolynomialFeatures\n",
        "\n",
        "pd.set_option('display.notebook_repr_html', False)\n",
        "pd.set_option('display.max_columns', None)\n",
        "pd.set_option('display.max_rows', 150)\n",
        "pd.set_option('display.max_seq_items', None)\n",
        " \n",
        "#%config InlineBackend.figure_formats = {'pdf',}\n",
        "%matplotlib inline\n",
        "from google.colab import files\n",
        "\n",
        "import seaborn as sns\n",
        "sns.set_context('notebook')\n",
        "sns.set_style('white')\n",
        "uploaded = files.upload()"
      ],
      "execution_count": 51,
      "outputs": [
        {
          "output_type": "display_data",
          "data": {
            "text/html": [
              "\n",
              "     <input type=\"file\" id=\"files-2e1da7b7-9ed5-46a8-8a56-5d69736928f3\" name=\"files[]\" multiple disabled />\n",
              "     <output id=\"result-2e1da7b7-9ed5-46a8-8a56-5d69736928f3\">\n",
              "      Upload widget is only available when the cell has been executed in the\n",
              "      current browser session. Please rerun this cell to enable.\n",
              "      </output>\n",
              "      <script src=\"/nbextensions/google.colab/files.js\"></script> "
            ],
            "text/plain": [
              "<IPython.core.display.HTML object>"
            ]
          },
          "metadata": {
            "tags": []
          }
        },
        {
          "output_type": "stream",
          "text": [
            "Saving ex2data1.txt to ex2data1 (1).txt\n",
            "Saving ex2data2.txt to ex2data2 (1).txt\n"
          ],
          "name": "stdout"
        }
      ]
    },
    {
      "metadata": {
        "id": "GshSdFjNMSMC",
        "colab_type": "code",
        "colab": {
          "autoexec": {
            "startup": false,
            "wait_interval": 0
          }
        }
      },
      "cell_type": "code",
      "source": [
        "#Load Data\n",
        "data = np.loadtxt('ex2data1.txt', delimiter=\",\")"
      ],
      "execution_count": 0,
      "outputs": []
    },
    {
      "metadata": {
        "id": "QS6lLmWqMSMS",
        "colab_type": "code",
        "colab": {
          "autoexec": {
            "startup": false,
            "wait_interval": 0
          }
        }
      },
      "cell_type": "code",
      "source": [
        "def plotData(data, label_x, label_y, label_pos, label_neg, axes=None):\n",
        "  \n",
        "    # Get indexes for class 0 and class 1\n",
        "    neg = data[:,2] == 0\n",
        "    pos = data[:,2] == 1\n",
        "    \n",
        "    # If no specific axes object has been passed, get the current axes.\n",
        "    if axes == None:\n",
        "        axes = plt.gca()\n",
        "    axes.scatter(data[pos][:,0], data[pos][:,1], marker='+', c='k', s=60, linewidth=2, label=label_pos)\n",
        "    axes.scatter(data[neg][:,0], data[neg][:,1], c='y', s=60, label=label_neg)\n",
        "    axes.set_xlabel(label_x)\n",
        "    axes.set_ylabel(label_y)\n",
        "    axes.legend(frameon= True, fancybox = True);"
      ],
      "execution_count": 0,
      "outputs": []
    },
    {
      "metadata": {
        "id": "Bp0i7MFnMSMy",
        "colab_type": "code",
        "colab": {
          "autoexec": {
            "startup": false,
            "wait_interval": 0
          }
        }
      },
      "cell_type": "code",
      "source": [
        "#Add the collumn of ones and get it into X\n",
        "X = np.c_[np.ones((data.shape[0],1)), data[:,0:2]]\n",
        "\n",
        "#fethch the given prediction\n",
        "y = np.c_[data[:,2]]"
      ],
      "execution_count": 0,
      "outputs": []
    },
    {
      "metadata": {
        "id": "OonvB8oeMSM9",
        "colab_type": "code",
        "colab": {
          "autoexec": {
            "startup": false,
            "wait_interval": 0
          },
          "base_uri": "https://localhost:8080/",
          "height": 361
        },
        "outputId": "7e43bc8d-a6d8-4565-bce8-c9e533fd2521",
        "executionInfo": {
          "status": "ok",
          "timestamp": 1530851851869,
          "user_tz": -330,
          "elapsed": 4125,
          "user": {
            "displayName": "BHEEM KUMAR",
            "photoUrl": "//lh4.googleusercontent.com/-FbEp2oHW2Io/AAAAAAAAAAI/AAAAAAAAAB8/8MD_60DGnZc/s50-c-k-no/photo.jpg",
            "userId": "116601293889660016995"
          }
        }
      },
      "cell_type": "code",
      "source": [
        "plotData(data, 'Exam 1 score', 'Exam 2 score', 'Admitted', 'Not admitted')"
      ],
      "execution_count": 86,
      "outputs": [
        {
          "output_type": "display_data",
          "data": {
            "image/png": "[encoded data removed]",
            "text/plain": [
              "<matplotlib.figure.Figure at 0x7f18e0986a20>"
            ]
          },
          "metadata": {
            "tags": []
          }
        }
      ]
    },
    {
      "metadata": {
        "id": "A3ulRY1kMSNO",
        "colab_type": "code",
        "colab": {
          "autoexec": {
            "startup": false,
            "wait_interval": 0
          }
        }
      },
      "cell_type": "code",
      "source": [
        "#Evaluate sigmoid\n",
        "def sigmoid(z):\n",
        "    return(1 / (1 + np.exp(-z)))  "
      ],
      "execution_count": 0,
      "outputs": []
    },
    {
      "metadata": {
        "id": "b4SAikxnMSNe",
        "colab_type": "code",
        "colab": {
          "autoexec": {
            "startup": false,
            "wait_interval": 0
          }
        }
      },
      "cell_type": "code",
      "source": [
        "#compute cost\n",
        "def costFunction(theta, X, y):\n",
        "    m = y.size\n",
        "    h = sigmoid(X.dot(theta))\n",
        "    \n",
        "    J = -1*(1/m)*(np.log(h).T.dot(y)+np.log(1-h).T.dot(1-y))\n",
        "               \n",
        "    if np.isnan(J[0]):\n",
        "        return(np.inf)\n",
        "    return(J[0])"
      ],
      "execution_count": 0,
      "outputs": []
    },
    {
      "metadata": {
        "id": "uaUzh2RGMSNm",
        "colab_type": "code",
        "colab": {
          "autoexec": {
            "startup": false,
            "wait_interval": 0
          }
        }
      },
      "cell_type": "code",
      "source": [
        "#compute gradient Descent\n",
        "def gradient(theta, X, y):\n",
        "    m = y.size\n",
        "    h = sigmoid(X.dot(theta.reshape(-1,1)))\n",
        "    \n",
        "    grad =(1/m)*X.T.dot(h-y)\n",
        "\n",
        "    return(grad.flatten())"
      ],
      "execution_count": 0,
      "outputs": []
    },
    {
      "metadata": {
        "id": "FLGohCcxMSNx",
        "colab_type": "code",
        "colab": {
          "autoexec": {
            "startup": false,
            "wait_interval": 0
          },
          "base_uri": "https://localhost:8080/",
          "height": 85
        },
        "outputId": "cc1cb32f-d5d1-4139-9794-4fb70ed2d038",
        "executionInfo": {
          "status": "ok",
          "timestamp": 1530851865269,
          "user_tz": -330,
          "elapsed": 1146,
          "user": {
            "displayName": "BHEEM KUMAR",
            "photoUrl": "//lh4.googleusercontent.com/-FbEp2oHW2Io/AAAAAAAAAAI/AAAAAAAAAB8/8MD_60DGnZc/s50-c-k-no/photo.jpg",
            "userId": "116601293889660016995"
          }
        }
      },
      "cell_type": "code",
      "source": [
        "#initilize theta with 0\n",
        "initial_theta = np.zeros(X.shape[1])\n",
        "\n",
        "#cost with initial theta\n",
        "cost = costFunction(initial_theta, X, y)\n",
        "print('Cost: \\n', cost)\n",
        "\n",
        "#gradient Descent with initial theta\n",
        "grad = gradient(initial_theta, X, y)\n",
        "\n",
        "print('Grad: \\n', grad)"
      ],
      "execution_count": 90,
      "outputs": [
        {
          "output_type": "stream",
          "text": [
            "Cost: \n",
            " 0.6931471805599453\n",
            "Grad: \n",
            " [ -0.1        -12.00921659 -11.26284221]\n"
          ],
          "name": "stdout"
        }
      ]
    },
    {
      "metadata": {
        "id": "-NNdl0zzZi0G",
        "colab_type": "code",
        "colab": {
          "autoexec": {
            "startup": false,
            "wait_interval": 0
          },
          "base_uri": "https://localhost:8080/",
          "height": 85
        },
        "outputId": "088cd886-4a4a-4d28-952c-1865ff56f72d",
        "executionInfo": {
          "status": "ok",
          "timestamp": 1530851866584,
          "user_tz": -330,
          "elapsed": 948,
          "user": {
            "displayName": "BHEEM KUMAR",
            "photoUrl": "//lh4.googleusercontent.com/-FbEp2oHW2Io/AAAAAAAAAAI/AAAAAAAAAB8/8MD_60DGnZc/s50-c-k-no/photo.jpg",
            "userId": "116601293889660016995"
          }
        }
      },
      "cell_type": "code",
      "source": [
        "#Declare the theta for test\n",
        "test_theta = np.array([-24, 0.2, 0.2])\n",
        "\n",
        "cost = costFunction(test_theta, X, y)\n",
        "print('Cost: \\n', cost)\n",
        "\n",
        "grad = gradient(test_theta, X, y)\n",
        "print('Grad: \\n', grad)"
      ],
      "execution_count": 91,
      "outputs": [
        {
          "output_type": "stream",
          "text": [
            "Cost: \n",
            " 0.2183301938265977\n",
            "Grad: \n",
            " [0.04290299 2.56623412 2.64679737]\n"
          ],
          "name": "stdout"
        }
      ]
    },
    {
      "metadata": {
        "id": "xQFUdSFFMSOC",
        "colab_type": "code",
        "colab": {
          "autoexec": {
            "startup": false,
            "wait_interval": 0
          },
          "base_uri": "https://localhost:8080/",
          "height": 289
        },
        "outputId": "1364ab7c-d40c-4966-beac-9e64676268e5",
        "executionInfo": {
          "status": "ok",
          "timestamp": 1530851879898,
          "user_tz": -330,
          "elapsed": 1755,
          "user": {
            "displayName": "BHEEM KUMAR",
            "photoUrl": "//lh4.googleusercontent.com/-FbEp2oHW2Io/AAAAAAAAAAI/AAAAAAAAAB8/8MD_60DGnZc/s50-c-k-no/photo.jpg",
            "userId": "116601293889660016995"
          }
        }
      },
      "cell_type": "code",
      "source": [
        "res = minimize(costFunction, initial_theta, args=(X,y), method=None, jac=gradient, options={'maxiter':400})\n",
        "res"
      ],
      "execution_count": 94,
      "outputs": [
        {
          "output_type": "stream",
          "text": [
            "/usr/local/lib/python3.6/dist-packages/ipykernel_launcher.py:5: RuntimeWarning: divide by zero encountered in log\n",
            "  \"\"\"\n",
            "/usr/local/lib/python3.6/dist-packages/ipykernel_launcher.py:5: RuntimeWarning: divide by zero encountered in log\n",
            "  \"\"\"\n"
          ],
          "name": "stderr"
        },
        {
          "output_type": "execute_result",
          "data": {
            "text/plain": [
              "      fun: 0.2034977015895099\n",
              " hess_inv: array([[ 2.85339493e+03, -2.32908823e+01, -2.27416470e+01],\n",
              "       [-2.32908823e+01,  2.04489131e-01,  1.72969525e-01],\n",
              "       [-2.27416470e+01,  1.72969525e-01,  1.96170322e-01]])\n",
              "      jac: array([-2.68557620e-09,  4.36433485e-07, -1.39671757e-06])\n",
              "  message: 'Optimization terminated successfully.'\n",
              "     nfev: 34\n",
              "      nit: 25\n",
              "     njev: 30\n",
              "   status: 0\n",
              "  success: True\n",
              "        x: array([-25.16131634,   0.2062316 ,   0.20147143])"
            ]
          },
          "metadata": {
            "tags": []
          },
          "execution_count": 94
        }
      ]
    },
    {
      "metadata": {
        "id": "eBK6GILtMSOl",
        "colab_type": "code",
        "colab": {
          "autoexec": {
            "startup": false,
            "wait_interval": 0
          }
        }
      },
      "cell_type": "code",
      "source": [
        "def predict(theta, X, threshold=0.5):\n",
        "    p = sigmoid(X.dot(theta.T)) >= threshold\n",
        "    return(p.astype('int'))"
      ],
      "execution_count": 0,
      "outputs": []
    },
    {
      "metadata": {
        "id": "xFsTh1RwMSO4",
        "colab_type": "code",
        "colab": {
          "autoexec": {
            "startup": false,
            "wait_interval": 0
          },
          "base_uri": "https://localhost:8080/",
          "height": 34
        },
        "outputId": "a137f7f5-291a-4192-935a-a7f3a3f46de2",
        "executionInfo": {
          "status": "ok",
          "timestamp": 1530851887476,
          "user_tz": -330,
          "elapsed": 1024,
          "user": {
            "displayName": "BHEEM KUMAR",
            "photoUrl": "//lh4.googleusercontent.com/-FbEp2oHW2Io/AAAAAAAAAAI/AAAAAAAAAB8/8MD_60DGnZc/s50-c-k-no/photo.jpg",
            "userId": "116601293889660016995"
          }
        }
      },
      "cell_type": "code",
      "source": [
        "# Student with Exam 1 score 45 and Exam 2 score 85\n",
        "# Predict using the optimized Theta values from above (res.x)\n",
        "sigmoid(np.array([1, 45, 85]).dot(res.x.T))"
      ],
      "execution_count": 96,
      "outputs": [
        {
          "output_type": "execute_result",
          "data": {
            "text/plain": [
              "0.7762903249331021"
            ]
          },
          "metadata": {
            "tags": []
          },
          "execution_count": 96
        }
      ]
    },
    {
      "metadata": {
        "id": "gDEJX7iLMSPH",
        "colab_type": "code",
        "colab": {
          "autoexec": {
            "startup": false,
            "wait_interval": 0
          },
          "base_uri": "https://localhost:8080/",
          "height": 34
        },
        "outputId": "8cc82b11-06ac-461c-c770-942afa57ba54",
        "executionInfo": {
          "status": "ok",
          "timestamp": 1530851889962,
          "user_tz": -330,
          "elapsed": 1673,
          "user": {
            "displayName": "BHEEM KUMAR",
            "photoUrl": "//lh4.googleusercontent.com/-FbEp2oHW2Io/AAAAAAAAAAI/AAAAAAAAAB8/8MD_60DGnZc/s50-c-k-no/photo.jpg",
            "userId": "116601293889660016995"
          }
        }
      },
      "cell_type": "code",
      "source": [
        "p = predict(res.x, X) \n",
        "print('Train accuracy {}%'.format(100*sum(p == y.ravel())/p.size))"
      ],
      "execution_count": 97,
      "outputs": [
        {
          "output_type": "stream",
          "text": [
            "Train accuracy 89.0%\n"
          ],
          "name": "stdout"
        }
      ]
    },
    {
      "metadata": {
        "id": "A0T6XzghMSPb",
        "colab_type": "text"
      },
      "cell_type": "markdown",
      "source": [
        "#### Decision boundary"
      ]
    },
    {
      "metadata": {
        "id": "k6XjOPNiMSPd",
        "colab_type": "code",
        "colab": {
          "autoexec": {
            "startup": false,
            "wait_interval": 0
          },
          "base_uri": "https://localhost:8080/",
          "height": 361
        },
        "outputId": "0a37c6f5-101a-4e01-9e9d-10ed71f24505",
        "executionInfo": {
          "status": "ok",
          "timestamp": 1530851894075,
          "user_tz": -330,
          "elapsed": 2079,
          "user": {
            "displayName": "BHEEM KUMAR",
            "photoUrl": "//lh4.googleusercontent.com/-FbEp2oHW2Io/AAAAAAAAAAI/AAAAAAAAAB8/8MD_60DGnZc/s50-c-k-no/photo.jpg",
            "userId": "116601293889660016995"
          }
        }
      },
      "cell_type": "code",
      "source": [
        "plotData(data, 'Exam 1 score', 'Exam 2 score', 'Admitted', 'Not admitted')\n",
        "\n",
        "#find max and min of both exam score to generate the meshgrid\n",
        "x1_min, x1_max = X[:,1].min(), X[:,1].max(),\n",
        "x2_min, x2_max = X[:,2].min(), X[:,2].max(),\n",
        "\n",
        "#generate the meshgrid\n",
        "xx1, xx2 = np.meshgrid(np.linspace(x1_min, x1_max), np.linspace(x2_min, x2_max))\n",
        "\n",
        "#find the hypothesis\n",
        "h = sigmoid(np.c_[np.ones((xx1.ravel().shape[0],1)), xx1.ravel(), xx2.ravel()].dot(res.x))\n",
        "h = h.reshape(xx1.shape)\n",
        "\n",
        "#plot the decision boundry\n",
        "plt.contour(xx1, xx2, h, [0.5], linewidths=1, colors='b');"
      ],
      "execution_count": 98,
      "outputs": [
        {
          "output_type": "display_data",
          "data": {
            "image/png": "[encoded data removed]",
            "text/plain": [
              "<matplotlib.figure.Figure at 0x7f18e2c31cc0>"
            ]
          },
          "metadata": {
            "tags": []
          }
        }
      ]
    },
    {
      "metadata": {
        "id": "N5pVZQpGMSP1",
        "colab_type": "text"
      },
      "cell_type": "markdown",
      "source": [
        "### Regularized logistic regression"
      ]
    },
    {
      "metadata": {
        "id": "X846Sb-kMSP2",
        "colab_type": "code",
        "colab": {
          "autoexec": {
            "startup": false,
            "wait_interval": 0
          }
        }
      },
      "cell_type": "code",
      "source": [
        "data2 = np.loadtxt('ex2data2.txt', delimiter=\",\")"
      ],
      "execution_count": 0,
      "outputs": []
    },
    {
      "metadata": {
        "id": "9iobhxBPMSQE",
        "colab_type": "code",
        "colab": {
          "autoexec": {
            "startup": false,
            "wait_interval": 0
          }
        }
      },
      "cell_type": "code",
      "source": [
        "y = np.c_[data2[:,2]]\n",
        "X = data2[:,0:2]"
      ],
      "execution_count": 0,
      "outputs": []
    },
    {
      "metadata": {
        "id": "tJ_YZORdMSQK",
        "colab_type": "code",
        "colab": {
          "autoexec": {
            "startup": false,
            "wait_interval": 0
          },
          "base_uri": "https://localhost:8080/",
          "height": 361
        },
        "outputId": "2f0ddbe3-fd2e-4240-82b6-9fb54b1a94e8",
        "executionInfo": {
          "status": "ok",
          "timestamp": 1530851906043,
          "user_tz": -330,
          "elapsed": 2722,
          "user": {
            "displayName": "BHEEM KUMAR",
            "photoUrl": "//lh4.googleusercontent.com/-FbEp2oHW2Io/AAAAAAAAAAI/AAAAAAAAAB8/8MD_60DGnZc/s50-c-k-no/photo.jpg",
            "userId": "116601293889660016995"
          }
        }
      },
      "cell_type": "code",
      "source": [
        "plotData(data2, 'Microchip Test 1', 'Microchip Test 2', 'y = 1', 'y = 0')"
      ],
      "execution_count": 101,
      "outputs": [
        {
          "output_type": "display_data",
          "data": {
            "image/png": "[encoded data removed]",
            "text/plain": [
              "<matplotlib.figure.Figure at 0x7f18e09c06d8>"
            ]
          },
          "metadata": {
            "tags": []
          }
        }
      ]
    },
    {
      "metadata": {
        "id": "_jyBGAtUMSQV",
        "colab_type": "text"
      },
      "cell_type": "markdown",
      "source": [
        "#### Polynomials"
      ]
    },
    {
      "metadata": {
        "id": "vaLXcxtEMSQX",
        "colab_type": "code",
        "colab": {
          "autoexec": {
            "startup": false,
            "wait_interval": 0
          },
          "base_uri": "https://localhost:8080/",
          "height": 34
        },
        "outputId": "99395a53-f49d-43d8-cd35-41a602a85466",
        "executionInfo": {
          "status": "ok",
          "timestamp": 1530851910865,
          "user_tz": -330,
          "elapsed": 1911,
          "user": {
            "displayName": "BHEEM KUMAR",
            "photoUrl": "//lh4.googleusercontent.com/-FbEp2oHW2Io/AAAAAAAAAAI/AAAAAAAAAB8/8MD_60DGnZc/s50-c-k-no/photo.jpg",
            "userId": "116601293889660016995"
          }
        }
      },
      "cell_type": "code",
      "source": [
        "# Note that this function inserts a column with 'ones' in the design matrix for the intercept.\n",
        "poly = PolynomialFeatures(6)\n",
        "XX = poly.fit_transform(data2[:,0:2])\n",
        "XX.shape"
      ],
      "execution_count": 102,
      "outputs": [
        {
          "output_type": "execute_result",
          "data": {
            "text/plain": [
              "(118, 28)"
            ]
          },
          "metadata": {
            "tags": []
          },
          "execution_count": 102
        }
      ]
    },
    {
      "metadata": {
        "id": "1VLLC3dNMSQp",
        "colab_type": "code",
        "colab": {
          "autoexec": {
            "startup": false,
            "wait_interval": 0
          }
        }
      },
      "cell_type": "code",
      "source": [
        "def costFunctionReg(theta, reg, *args):\n",
        "    m = y.size\n",
        "    h = sigmoid(XX.dot(theta))\n",
        "    \n",
        "    J = -1*(1/m)*(np.log(h).T.dot(y)+np.log(1-h).T.dot(1-y)) + (reg/(2*m))*np.sum(np.square(theta[1:]))\n",
        "    \n",
        "    if np.isnan(J[0]):\n",
        "        return(np.inf)\n",
        "    return(J[0])"
      ],
      "execution_count": 0,
      "outputs": []
    },
    {
      "metadata": {
        "id": "3hiP_R_PMSQw",
        "colab_type": "code",
        "colab": {
          "autoexec": {
            "startup": false,
            "wait_interval": 0
          }
        }
      },
      "cell_type": "code",
      "source": [
        "def gradientReg(theta, reg, *args):\n",
        "    m = y.size\n",
        "    h = sigmoid(XX.dot(theta.reshape(-1,1)))\n",
        "      \n",
        "    grad = (1/m)*XX.T.dot(h-y) + (reg/m)*np.r_[[[0]],theta[1:].reshape(-1,1)]\n",
        "        \n",
        "    return(grad.flatten())"
      ],
      "execution_count": 0,
      "outputs": []
    },
    {
      "metadata": {
        "id": "a-gS1P-eMSQ8",
        "colab_type": "code",
        "colab": {
          "autoexec": {
            "startup": false,
            "wait_interval": 0
          },
          "base_uri": "https://localhost:8080/",
          "height": 68
        },
        "outputId": "fafbb59a-dc88-450d-8c9a-4fe3c1d57a95",
        "executionInfo": {
          "status": "ok",
          "timestamp": 1530851925836,
          "user_tz": -330,
          "elapsed": 1774,
          "user": {
            "displayName": "BHEEM KUMAR",
            "photoUrl": "//lh4.googleusercontent.com/-FbEp2oHW2Io/AAAAAAAAAAI/AAAAAAAAAB8/8MD_60DGnZc/s50-c-k-no/photo.jpg",
            "userId": "116601293889660016995"
          }
        }
      },
      "cell_type": "code",
      "source": [
        "#Compute and display initial cost and gradient for regularized logistic regression\n",
        "initial_theta = np.zeros(XX.shape[1])\n",
        "cost_reg = costFunctionReg(initial_theta, 1, XX, y)\n",
        "print(cost_reg)\n",
        "\n",
        "#Gradient at initial theta (zeros) - first five values only:\n",
        "gradReg = gradientReg(initial_theta, 1, XX, y)\n",
        "print(gradReg[0:5])"
      ],
      "execution_count": 106,
      "outputs": [
        {
          "output_type": "stream",
          "text": [
            "0.6931471805599454\n",
            "[8.47457627e-03 1.87880932e-02 7.77711864e-05 5.03446395e-02\n",
            " 1.15013308e-02]\n"
          ],
          "name": "stdout"
        }
      ]
    },
    {
      "metadata": {
        "id": "KeWMHulQPpc1",
        "colab_type": "code",
        "colab": {
          "autoexec": {
            "startup": false,
            "wait_interval": 0
          },
          "base_uri": "https://localhost:8080/",
          "height": 51
        },
        "outputId": "10d0e217-d49f-4b59-8c2d-4bce89e8b8c0",
        "executionInfo": {
          "status": "ok",
          "timestamp": 1530852145653,
          "user_tz": -330,
          "elapsed": 1110,
          "user": {
            "displayName": "BHEEM KUMAR",
            "photoUrl": "//lh4.googleusercontent.com/-FbEp2oHW2Io/AAAAAAAAAAI/AAAAAAAAAB8/8MD_60DGnZc/s50-c-k-no/photo.jpg",
            "userId": "116601293889660016995"
          }
        }
      },
      "cell_type": "code",
      "source": [
        "#Compute and display cost and gradient with all-ones theta and lambda = 10\n",
        "test_theta = np.ones(XX.shape[1]);\n",
        "#Cost at test_theta\n",
        "initial_theta = np.zeros(XX.shape[1])\n",
        "costReg = costFunctionReg(test_theta, 10, XX, yy)\n",
        "print(costReg)\n",
        "\n",
        "#Gradient at test_theta (lamda = 10) - first five values only:\n",
        "gradReg = gradientReg(test_theta, 10, XX, yy)\n",
        "print(gradReg[0:5])"
      ],
      "execution_count": 112,
      "outputs": [
        {
          "output_type": "stream",
          "text": [
            "3.1645093316150095\n",
            "[0.34604507 0.16135192 0.19479576 0.22686278 0.09218568]\n"
          ],
          "name": "stdout"
        }
      ]
    },
    {
      "metadata": {
        "id": "Hw67LyPfMSRN",
        "colab_type": "code",
        "colab": {
          "autoexec": {
            "startup": false,
            "wait_interval": 0
          },
          "base_uri": "https://localhost:8080/",
          "height": 383
        },
        "outputId": "78f3e527-f6bc-4247-9bfe-da70a1243e1a",
        "executionInfo": {
          "status": "ok",
          "timestamp": 1530851933183,
          "user_tz": -330,
          "elapsed": 3464,
          "user": {
            "displayName": "BHEEM KUMAR",
            "photoUrl": "//lh4.googleusercontent.com/-FbEp2oHW2Io/AAAAAAAAAAI/AAAAAAAAAB8/8MD_60DGnZc/s50-c-k-no/photo.jpg",
            "userId": "116601293889660016995"
          }
        }
      },
      "cell_type": "code",
      "source": [
        "fig, axes = plt.subplots(1,3, sharey = True, figsize=(17,5))\n",
        "\n",
        "# Decision boundaries\n",
        "# Lambda = 0 : No regularization --> too flexible, overfitting the training data\n",
        "# Lambda = 1 : Looks about right\n",
        "# Lambda = 100 : Too much regularization --> high bias\n",
        "\n",
        "for i, C in enumerate([0, 1, 100]):\n",
        "    # Optimize costFunctionReg\n",
        "    \n",
        "    res2 = minimize(costFunctionReg, initial_theta, args=(C, XX, y), method=None, jac=gradientReg, options={'maxiter':3000})\n",
        "    \n",
        "    # Accuracy\n",
        "    accuracy = 100*sum(predict(res2.x, XX) == y.ravel())/y.size    \n",
        "\n",
        "    # Scatter plot of X,y\n",
        "    plotData(data2, 'Microchip Test 1', 'Microchip Test 2', 'y = 1', 'y = 0', axes.flatten()[i])\n",
        "    \n",
        "    #Plot decisionboundary\n",
        "    x1_min, x1_max = X[:,0].min(), X[:,0].max(),\n",
        "    x2_min, x2_max = X[:,1].min(), X[:,1].max(),\n",
        "    xx1, xx2 = np.meshgrid(np.linspace(x1_min, x1_max), np.linspace(x2_min, x2_max))\n",
        "    h = sigmoid(poly.fit_transform(np.c_[xx1.ravel(), xx2.ravel()]).dot(res2.x))\n",
        "    h = h.reshape(xx1.shape)\n",
        "    axes.flatten()[i].contour(xx1, xx2, h, [0.5], linewidths=1, colors='g');       \n",
        "    axes.flatten()[i].set_title('Train accuracy {}% with Lambda = {}'.format(np.round(accuracy, decimals=2), C))"
      ],
      "execution_count": 108,
      "outputs": [
        {
          "output_type": "stream",
          "text": [
            "/usr/local/lib/python3.6/dist-packages/ipykernel_launcher.py:2: RuntimeWarning: overflow encountered in exp\n",
            "  \n"
          ],
          "name": "stderr"
        },
        {
          "output_type": "display_data",
          "data": {
            "image/png": "[encoded data removed]",
            "text/plain": [
              "<matplotlib.figure.Figure at 0x7f18e0ba9518>"
            ]
          },
          "metadata": {
            "tags": []
          }
        }
      ]
    },
    {
      "metadata": {
        "id": "SCW7QyCrxAMk",
        "colab_type": "code",
        "colab": {
          "autoexec": {
            "startup": false,
            "wait_interval": 0
          }
        }
      },
      "cell_type": "code",
      "source": [
        ""
      ],
      "execution_count": 0,
      "outputs": []
    },
    {
      "metadata": {
        "id": "8g4SFyZG47Hq",
        "colab_type": "code",
        "colab": {
          "autoexec": {
            "startup": false,
            "wait_interval": 0
          }
        }
      },
      "cell_type": "code",
      "source": [
        ""
      ],
      "execution_count": 0,
      "outputs": []
    }
  ]
}